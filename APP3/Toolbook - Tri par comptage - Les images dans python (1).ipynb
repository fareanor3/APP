{
 "cells": [
  {
   "cell_type": "markdown",
   "metadata": {},
   "source": [
    "***\n",
    "# ToolBook - Tri par comptage - Les images dans python\n",
    "***\n",
    "\n",
    "## Sommaire\n",
    "\n",
    "\n",
    "* <a href=\"#Définition-du-tri-par-comptage\">Définition du tri par comptage</a>\n",
    "* <a href=\"#Exemple-d'utilisation\">Exemple d'utilisation</a>\n",
    "* <a href=\"#Implémentation-du-tri-par-comptage\">Implémentation du tri par comptage</a>\n",
    "* <a href=\"#Complexité-algorithmique-du-tri-par-comptage\">Complexité algorithmique du tri par comptage</a>\n",
    "* <a href=\"#La-bibliothèque-Pillow\">La bibliothèque Pillow</a>\n",
    "* <a href=\"#Quelques-fonctions-usuelles-pour-manipuler-les-images\">Quelques fonctions usuelles pour manipuler les images</a>\n",
    "\n",
    "\n",
    "## Prérecquis\n",
    "\n",
    "\n",
    "Vous devez avoir préalablement visualisé le toolbook et les mimos suivants :\n",
    "\n",
    "- [Module 9 : Notions et dénombrement]()\n",
    "- [Module 11 : Notations pour l'analyse asymptotique]()\n",
    "- [Toolbook - Algorithmes de tri.ipynb]()\n",
    "\n",
    "***"
   ]
  },
  {
   "cell_type": "markdown",
   "metadata": {},
   "source": [
    "\n",
    "## Définition du tri par comptage\n",
    "\n",
    "Le tri par comptage (counting sort en anglais) est appelé aussi tri caisier ou tri par dénombrement. \n",
    "<br>\n",
    "Ce tri n'est applicable que dans le cas où la liste à trier est composée de valeurs entières comprises entre deux bornes connues. Cette contrainte réduit énormément son champ d'application. Toutefois, quand il est utilisé il est d'une efficacité redoutable. En effet, cette efficacité est dûe au fait que ce tri est le seul qui ne nécessite aucune comparaison entre les différents éléments de la liste à trier.\n",
    "\n",
    "Le principe repose sur la construction de l'histogramme des données, puis le balayage de celui-ci de façon croissante, afin de reconstruire les données triées.\n",
    "\n",
    "Supposons dans ce qui suit qu'on ait que des valeurs entières positives.\n",
    "<br>\n",
    "Le principe du tri par comptage est le suivant :\n",
    "- Rechercher dans l’ensemble d’éléments le plus grand élément v.\n",
    "- Construire un tableau de taille v+1 avec des indices allant de 0 à v et initialiser les valeurs de ce tableau à 0.\n",
    "- Parcourir l’ensemble des valeurs à classer, pour chaque valeur x, incrémenter la case d'indice x.\n",
    "- Parcourir le tableau et construire l’ensemble des éléments triés en créant pour chaque case du tableau, autant de valeurs d'indice qu'indique son contenu.\n",
    "\n",
    "\n",
    "## Exemple d'utilisation\n",
    "\n",
    "Si j'ai une liste L de plusieurs notes comprises entre 0 et 10 à ranger par ordre croissant, le tri par comptage sera certainement le meilleur tri à utiliser.\n",
    "\n",
    "Le principe est simple :\n",
    " \n",
    "- Erape 1 : Calcul de l'histogramme  <br>\n",
    "    On crée d'abord une liste histogramme de 11 zéros qui nous servira pour compter.  <br>\n",
    "    On parcourt la liste à trier L et on prend le premier élément i de notre liste L. On rajoute alors 1 à l'indice i de notre liste histogramme qui nous sert à compter.  <br>\n",
    "    On recommence ainsi pour tous les éléments de la liste.\n",
    "- Etape 2 : Déduire la liste triée à partir de l'histogramme  <br>\n",
    "    A la fin, on parcourt tous les éléments de la liste histogramme pour créer notre liste triée L_triée.   <br>\n",
    "    A chaque fois qu'il y a une valeur non nulle dans la liste histogramme: on ajoute la valeurs de l'indice de cette liste histogramme à notre L_triée et on l'ajoute autant de fois que la valeur de cette case.\n",
    "     \n",
    "<table>\n",
    "  <tr>\n",
    "    <td style=\"background-color: Azure\">L = [ </td>\n",
    "    <td style=\"background-color: Azure\">3 , </td>\n",
    "    <td style=\"background-color: Azure\">6 , </td>\n",
    "    <td style=\"background-color: Azure\">8 , </td>\n",
    "    <td style=\"background-color: Azure\">2 , </td>\n",
    "    <td style=\"background-color: Azure\">8 , </td>\n",
    "    <td style=\"background-color: Azure\">3 , </td>\n",
    "    <td style=\"background-color: Azure\">1 , </td>\n",
    "    <td style=\"background-color: Azure\">8 , </td>\n",
    "    <td style=\"background-color: Azure\">10 , </td>\n",
    "    <td style=\"background-color: Azure\">7 , </td>\n",
    "    <td style=\"background-color: Azure\">4 , </td>\n",
    "    <td style=\"background-color: Azure\">5 , </td>\n",
    "    <td style=\"background-color: Azure\">9 , </td>\n",
    "    <td style=\"background-color: Azure\">0 , </td>\n",
    "    <td style=\"background-color: Azure\">8 , </td>\n",
    "    <td style=\"background-color: Azure\">7 , </td>\n",
    "    <td style=\"background-color: Azure\">4 , </td>\n",
    "    <td style=\"background-color: Azure\">6 , </td>\n",
    "    <td style=\"background-color: Azure\">8 , </td>\n",
    "    <td style=\"background-color: Azure\">7 ]</td>\n",
    "  </tr>\n",
    "</table>\n",
    "  <br>\n",
    "    <br>\n",
    "\n",
    "<table border>\n",
    "  <tr align=\"center\">\n",
    "      <td >  </td>\n",
    "          <td> </td>\n",
    "    <th style=\"background-color: LightCyan\">hist[0]  </th>\n",
    "    <td> </td>\n",
    "    <th style=\"background-color: LightCyan\">hist[1]  </th>\n",
    "    <td> </td>\n",
    "    <th style=\"background-color: LightCyan\">hist[2]  </th>\n",
    "    <td> </td>\n",
    "    <th style=\"background-color: LightCyan\">hist[3]  </th>\n",
    "    <td> </td>\n",
    "    <th style=\"background-color: LightCyan\">hist[4]  </th>\n",
    "    <td> </td>\n",
    "    <th style=\"background-color: LightCyan\">hist[5]  </th>\n",
    "    <td> </td>\n",
    "    <th style=\"background-color: LightCyan\">hist[6]  </th>\n",
    "    <td> </td>\n",
    "    <th style=\"background-color: LightCyan\">hist[7]  </th>\n",
    "    <td> </td>\n",
    "    <th style=\"background-color: LightCyan\">hist[8]  </th>\n",
    "    <td> </td>\n",
    "    <th style=\"background-color: LightCyan\">hist[9]  </th>\n",
    "    <td> </td>\n",
    "    <th style=\"background-color: LightCyan\">hist[10]  </th>\n",
    "  </tr>\n",
    "  <tr align=\"center\">\n",
    "            <td >  </td>\n",
    "          <td> </td>\n",
    "    <td  align=\"center\" style=\"background-color: LightCyan\">1</td>\n",
    "    <td> </td>\n",
    "      <td  align=\"center\"  style=\"background-color: LightCyan\">1</td>\n",
    "    <td> </td>\n",
    "      <td  align=\"center\"  style=\"background-color: LightCyan\">1</td>\n",
    "    <td> </td>\n",
    "      <td  align=\"center\"  style=\"background-color: LightCyan\">2</td>\n",
    "    <td> </td>\n",
    "      <td  align=\"center\"  style=\"background-color: LightCyan\">2</td>\n",
    "    <td> </td>\n",
    "      <td  align=\"center\"  style=\"background-color: LightCyan\">1</td>\n",
    "    <td> </td>\n",
    "      <td  align=\"center\"  style=\"background-color: LightCyan\">2</td>\n",
    "    <td> </td>\n",
    "      <td align=\"center\" style=\"background-color: LightCyan\">3</td>\n",
    "    <td> </td>\n",
    "      <td  align=\"center\"  style=\"background-color: LightCyan\">5</td>\n",
    "    <td> </td>\n",
    "      <td  align=\"center\"  style=\"background-color: LightCyan\">1</td>\n",
    "    <td> </td>\n",
    "      <td  align=\"center\"  style=\"background-color: LightCyan\">1</td>\n",
    "  </tr>\n",
    "      <tr>\n",
    "             <td> </td>\n",
    "             <td> </td>\n",
    "             <td> </td>\n",
    "             <td> </td>\n",
    "             <td> </td>\n",
    "             <td> </td>\n",
    "             <td> </td>\n",
    "             <td> </td>\n",
    "             <td> </td>\n",
    "                       <td> </td>\n",
    "             <td> </td>\n",
    "             <td> </td>\n",
    "             <td> </td>\n",
    "             <td> </td>\n",
    "             <td> </td>\n",
    "             <td> </td>\n",
    "             <td> </td>\n",
    "             <td> </td>\n",
    "                 <td> </td>\n",
    "             <td> </td>\n",
    "                       <td> </td>\n",
    "             <td> </td>\n",
    "        </tr>\n",
    "  <tr align=\"center\">\n",
    "          <td class=\"text-center\" style=\"background-color: LightCyan\">L_triée = </td>\n",
    "    <td> </td>\n",
    "    <td class=\"text-center\" style=\"background-color: LightCyan\">0</td>\n",
    "    <td> </td>\n",
    "      <td class=\"text-center\" style=\"background-color: LightCyan\">1</td>\n",
    "    <td> </td>\n",
    "      <td class=\"text-center\" style=\"background-color: LightCyan\">2</td>\n",
    "    <td> </td>\n",
    "      <td class=\"text-center\" style=\"background-color: LightCyan\">3 , 3</td>\n",
    "    <td> </td>\n",
    "      <td class=\"text-center\" style=\"background-color: LightCyan\">4 , 4</td>\n",
    "    <td> </td>\n",
    "      <td class=\"text-center\" style=\"background-color: LightCyan\">5</td>\n",
    "    <td> </td>\n",
    "      <td class=\"text-center\" style=\"background-color: LightCyan\">6 , 6</td>\n",
    "    <td> </td>\n",
    "      <td text-align= \"center\"; style=\"background-color: LightCyan\">7 , 7 , 7</td>\n",
    "    <td> </td>\n",
    "      <td class=\"text-center\" style=\"background-color: LightCyan\">8 , 8 , 8 , 8 , 8</td>\n",
    "    <td> </td>\n",
    "      <td class=\"text-center\" style=\"background-color: LightCyan\">9</td>\n",
    "    <td> </td>\n",
    "      <td class=\"text-center\" style=\"background-color: LightCyan\">10</td>\n",
    "  </tr>\n",
    "</table>\n",
    "\n",
    "  <br>\n",
    "    <br>\n",
    "<table>\n",
    "  <tr>\n",
    "    <td  style=\"background-color: Azure\">L_triée = [ </td>\n",
    "    <td style=\"background-color: Azure\">0 , </td>\n",
    "    <td style=\"background-color: Azure\">1 , </td>\n",
    "    <td style=\"background-color: Azure\">2 , </td>\n",
    "    <td style=\"background-color: Azure\">3 , </td>\n",
    "    <td style=\"background-color: Azure\">3 , </td>\n",
    "    <td style=\"background-color: Azure\">4 , </td>\n",
    "    <td style=\"background-color: Azure\">4 , </td>\n",
    "    <td style=\"background-color: Azure\">5 , </td>\n",
    "    <td style=\"background-color: Azure\">6 , </td>\n",
    "    <td style=\"background-color: Azure\">6 , </td>\n",
    "    <td style=\"background-color: Azure\">7 , </td>\n",
    "    <td style=\"background-color: Azure\">7 , </td>\n",
    "    <td style=\"background-color: Azure\">7 , </td>\n",
    "    <td style=\"background-color: Azure\">8 , </td>\n",
    "    <td style=\"background-color: Azure\">8 , </td>\n",
    "    <td style=\"background-color: Azure\">8 , </td>\n",
    "    <td style=\"background-color: Azure\">8 , </td>\n",
    "    <td style=\"background-color: Azure\">8 , </td>\n",
    "    <td style=\"background-color: Azure\">9 , </td>\n",
    "    <td style=\"background-color: Azure\">10 ]</td>\n",
    "  </tr>\n",
    "</table>\n",
    "\n",
    "## Implémentation du tri par comptage\n",
    "\n",
    "L'algorihtme pseudo code du tri comptage pour trier une liste L est donné comme suit:\n",
    "\n",
    "    k=max(L)\n",
    "    count = tableau de k+1 zéros \n",
    "    Pour chaque x de L : \n",
    "        count[x] += 1 \n",
    "\n",
    "    T=[]\n",
    "    Pour chaque i allant de 0 jusqu'à k+1 :\n",
    "        Pour chaque j allant de 0 jusqu'à count[i]:\n",
    "            T+=[i]\n",
    "\n",
    "## Complexité algorithmique du tri par comptage\n",
    "\n",
    " Afin de claculer la complexité pour ce tri, considérons un ensemble de n éléments. \n",
    "- En tout premier, on parcourt une fois la liste pour trouver le plus grand élément v. Soit une complexité en O(n).\n",
    "- Ensuite, on construit un tableau à m=v+1 éléments et on initialise ce tableau à 0. Soit une complexité en O(m). L’espace mémoire alloué pour créer un tel tableau est également proportionnel à m.\n",
    "- Ensuite, on parcourt l’ensemble des éléments en incrémentant la case correspondante du tableau, soit une complexité pour le parcours en O(n).\n",
    "- Enfin, on parcours les différentes cases du tableau et on reconstruit l’ensemble des éléments en le classant, soit une complexité pour le parcours en O(m).\n",
    "\n",
    "Au final, on a une complexité en nombre d’opérations qui est en O(m+n). On remarque donc que la complexité est linéaire, elle dépend également de l’intervalle de valeur m que prend les entiers à classer. Le tri sera d’autant plus efficace que l’intervalle de valeurs sera réduit. En effet, prenons le cas extrême d’une dizaine de valeurs entières à classer dont le max est 1000. Le tri est très simple, mais l’application du tri par comptage sur ce type de tri entraînera la création d’un tableau de 1000 valeurs, ce qui bien trop important pour ne classer que 10 valeurs.\n",
    "\n",
    "Au final, on peut dire que le tri sera d’autant plus efficace que l’intervalle sera réduit et que le nombre de valeurs à classer sera élevé. En gros, plus le rapport n/m est grand, plus le tri est avantageux. En effet, si n est très grand, aucun tri ne pourra rivaliser en vitesse de classement avec le tri par comptage, si m est très petit, l’efficacité sera encore plus grande puisque l’espace mémoire nécessaire sera moins important. L’idéal serait également qu’il n’y ait pas trop de trous dans l’ensemble, c’est à dire que la plupart des valeurs de l’intervalle se retrouvent dans l’ensemble à trier. En effet, même si une valeur n’apparaît pas, elle requiert une case dans le tableau intermédiaire, ce qui correspond à de l’allocation mémoire inutile.\n",
    "\n",
    "En conclusion, le tri par comptage est l’un des tris les plus efficaces, mais son utilisation est malheureusement soumise à certaines régles qui limitent fortement ses domaines d’application.\n"
   ]
  },
  {
   "cell_type": "markdown",
   "metadata": {},
   "source": [
    "## Les images dans Python \n",
    "\n",
    "### La bibliothèque Pillow\n",
    "\n",
    "La bibliothèque python Pillow est une bibliothèque de traitement d’image, qui est issue du projet **PIL (Python Imaging Library)**. <br>\n",
    "Cette bibliothèque permet d'avoir un accès rapide aux données contenues dans une image, et offre un support pour différents formats de fichiers tels que PPM, PNG, JPEG, GIF, TIFF et BMP.\n",
    "\n",
    "Pillow offre des capacités de traitement d’images assez puissantes, et offre ainsi une solide base pour différentes applications de traitement d’images. Parmi les applications de traitement d'images qui utilisent la bibliothèque de fonctions Pillow, on peut citer :\n",
    "\n",
    "- L'archivage d’images:<br>\n",
    "    Création de miniatures, conversion d’images d’un format de fichier à un autre, …\n",
    "<br>\n",
    "- L'affichage d’images:<br>\n",
    "    Création et affichage d’images via le module PIL.ImageTk, ou PIL.ImageWin sous Windows. Ouverture d’une image dans un utilitaire externe via la méthode PIL.Image.Image.show().\n",
    "<br>\n",
    "- Le traitement d’images:<br>\n",
    "    La bibliothèque de fonctions offre un support pour quelques fonctions de bases telles que le filtrage, la convolution ou encore la conversion d’espaces couleurs. Il est également possible de redimensionner et d’appliquer des transformations géométriques à l’image (rotation, …).\n",
    "    \n",
    "### Quelques fonctions usuelles pour manipuler les images"
   ]
  },
  {
   "cell_type": "markdown",
   "metadata": {},
   "source": [
    "On ouvre une image avec l'instruction:\n",
    "<br>\n",
    "> img = Image.open(\"chemin_où_est stockée_l'image/nom_de_l'image.png\")\n",
    "\n",
    "Pour connaitre la taille de l'image, on utilise l'instruction :\n",
    "<br>\n",
    "> width, height = img.size()\n",
    "\n",
    "Pour visualiser une image, on utilise :\n",
    "<br>\n",
    "> img.show()\n",
    "\n",
    "L'image s'affiche dans une fenêtre qui s'ouvre à part"
   ]
  },
  {
   "cell_type": "code",
   "execution_count": 1,
   "metadata": {},
   "outputs": [],
   "source": [
    "from PIL import Image\n",
    "\n",
    "#Pour ouvrir une image : \n",
    "img = Image.open(\"C:/enseignement_ESME/année2019_2020/AA1/APP3/img_medicale.png\")\n"
   ]
  },
  {
   "cell_type": "code",
   "execution_count": 2,
   "metadata": {},
   "outputs": [
    {
     "name": "stdout",
     "output_type": "stream",
     "text": [
      "225\n",
      "225\n"
     ]
    }
   ],
   "source": [
    "#Pour connaitre la taille d'une image \n",
    "\n",
    "width, height = img.size\n",
    "print(width)\n",
    "print(height)\n"
   ]
  },
  {
   "cell_type": "code",
   "execution_count": 4,
   "metadata": {},
   "outputs": [],
   "source": [
    "#Pour visualiser une image\n",
    "\n",
    "img.show()\n",
    "\n",
    "#L'image s'affiche dans une fenêtre qui s'ouvre à part\n"
   ]
  },
  {
   "cell_type": "markdown",
   "metadata": {},
   "source": [
    "A chaque pixel d'une image couleur correspond 3 valeurs Rouge, Vert, Bleu. Chaque valeur est comprise entre 0 et 255.\n",
    "\n",
    "Par contre, dans les images en niveaux de gris, chaque pixel n'a qu'une seule valeur et non pas 3 valeurs. Chaque pixel de l'image correspond ainsi à une valeur comprise entre 0 (valeur minimum = couleur noire) et 255 (valeur maximum = couleur blanche).\n",
    "\n",
    "On accède à la valeur d'un pixel de l'image img qui se trouve à la ligne x et à la colone y via l'instruction python :\n",
    "\n",
    "> val = img.getpixel((x, y))"
   ]
  },
  {
   "cell_type": "code",
   "execution_count": 7,
   "metadata": {},
   "outputs": [
    {
     "name": "stdout",
     "output_type": "stream",
     "text": [
      "187\n"
     ]
    }
   ],
   "source": [
    "# On accède à la valeur du pixel de l'image img qui se trouve à la ligne 50 et à la colone 100 via l'instruction :\n",
    "val = img.getpixel((50, 100))\n",
    "print (val)\n"
   ]
  },
  {
   "cell_type": "markdown",
   "metadata": {},
   "source": [
    "Si on veut changer la valeur d'un pixel d'une image img et stocker la nouvelle image obtenue dans img2, on utilise l'instruciton suivante :\n",
    "> img2 = img.copy()\n",
    "\n",
    "On crée ainsi img2 qui est une copie de img puis pour chaque pixel de coordonnées xx et yy qu'on voudra changer, on exécutera la fonction suivante :\n",
    "> img2.putpixel((xx, yy), value)\n",
    "\n",
    "Ainsi on aura mis à jour la valeur du pixel de la ligne xx et de la colonne yy avec la valeur: value\n"
   ]
  },
  {
   "cell_type": "code",
   "execution_count": 8,
   "metadata": {},
   "outputs": [
    {
     "name": "stdout",
     "output_type": "stream",
     "text": [
      "0\n"
     ]
    }
   ],
   "source": [
    "# Si on veut changer la valeur d'un pixel et stocker la nouvelle image obtenue dans img2:\n",
    "img2 = img.copy()#on crée img2 qui est une copie de img \n",
    "img2.putpixel((50, 100), 0) #on met à jour la valeur du pixel de la ligne 50 et de la colonne 100 avec la valeur 0\n",
    "\n",
    "print(img2.getpixel((50, 100)))"
   ]
  },
  {
   "cell_type": "markdown",
   "metadata": {},
   "source": [
    "Pour enregistrer une image img2 par exemple de formt png, on utilise l'instruction python suivante en précisant le format utilisé:\n",
    "<br>\n",
    "> img2.save(\"chemin_où_est_stockée_l'image/nom_de_l'image.png\", format=\"png\")\n"
   ]
  },
  {
   "cell_type": "code",
   "execution_count": 9,
   "metadata": {},
   "outputs": [],
   "source": [
    "#Pour enregistrer une image\n",
    "img2.save(\"C:/enseignement_ESME/année2019_2020/AA1/APP3/img_medicale_contrast.png\", format=\"png\")\n"
   ]
  },
  {
   "cell_type": "markdown",
   "metadata": {},
   "source": [
    "Lorsqu'on parcourt une image, on parcourt toutes les lignes et toutes les colonnes du tableau image.\n",
    "<br>\n",
    "Si on veut balayer tous les pixels de l'image, une idée est d'utiliser les boucles imbriquées (une boucle dans une autre boucle). Par exmemple, si on veut traiter chaque pixel de l'image, on crée une première boucle balayant toutes les lignes de l'image et à l'interieur de cette boucle, on crée une autre boucle balayant toutes les colonnes de l'image.  "
   ]
  },
  {
   "cell_type": "code",
   "execution_count": 33,
   "metadata": {},
   "outputs": [],
   "source": [
    "pixel=[]\n",
    "for x in range(width):\n",
    "    pixel.append([0]*height)\n",
    "    for y in range(height):\n",
    "        pixel[x][y] = img.getpixel((x, y))"
   ]
  }
 ],
 "metadata": {
  "celltoolbar": "Aucun(e)",
  "kernelspec": {
   "display_name": "Python 3",
   "language": "python",
   "name": "python3"
  },
  "language_info": {
   "codemirror_mode": {
    "name": "ipython",
    "version": 3
   },
   "file_extension": ".py",
   "mimetype": "text/x-python",
   "name": "python",
   "nbconvert_exporter": "python",
   "pygments_lexer": "ipython3",
   "version": "3.7.6"
  },
  "latex_envs": {
   "LaTeX_envs_menu_present": true,
   "autoclose": false,
   "autocomplete": true,
   "bibliofile": "biblio.bib",
   "cite_by": "apalike",
   "current_citInitial": 1,
   "eqLabelWithNumbers": true,
   "eqNumInitial": 1,
   "hotkeys": {
    "equation": "Ctrl-E",
    "itemize": "Ctrl-I"
   },
   "labels_anchors": false,
   "latex_user_defs": false,
   "report_style_numbering": false,
   "user_envs_cfg": false
  },
  "varInspector": {
   "cols": {
    "lenName": 16,
    "lenType": 16,
    "lenVar": 40
   },
   "kernels_config": {
    "python": {
     "delete_cmd_postfix": "",
     "delete_cmd_prefix": "del ",
     "library": "var_list.py",
     "varRefreshCmd": "print(var_dic_list())"
    },
    "r": {
     "delete_cmd_postfix": ") ",
     "delete_cmd_prefix": "rm(",
     "library": "var_list.r",
     "varRefreshCmd": "cat(var_dic_list()) "
    }
   },
   "types_to_exclude": [
    "module",
    "function",
    "builtin_function_or_method",
    "instance",
    "_Feature"
   ],
   "window_display": false
  }
 },
 "nbformat": 4,
 "nbformat_minor": 4
}
